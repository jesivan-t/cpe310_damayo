{
  "nbformat": 4,
  "nbformat_minor": 0,
  "metadata": {
    "colab": {
      "provenance": [],
      "authorship_tag": "ABX9TyP38zEuEYA80kp3BsrqGxVu",
      "include_colab_link": true
    },
    "kernelspec": {
      "name": "python3",
      "display_name": "Python 3"
    },
    "language_info": {
      "name": "python"
    }
  },
  "cells": [
    {
      "cell_type": "markdown",
      "metadata": {
        "id": "view-in-github",
        "colab_type": "text"
      },
      "source": [
        "<a href=\"https://colab.research.google.com/github/jesivan-t/cpe310_damayo/blob/main/Supplementary_Hands_on_1_2.ipynb\" target=\"_parent\"><img src=\"https://colab.research.google.com/assets/colab-badge.svg\" alt=\"Open In Colab\"/></a>"
      ]
    },
    {
      "cell_type": "markdown",
      "source": [
        "# Jes Ivan T. Damayo | BSIE | CPE310 - Fundamentals of Data Science | 2/3/2025 | Instructor: Engr. Roman M. Richard | Activity No. 2: Control Structures"
      ],
      "metadata": {
        "id": "tXaYhvURBcOX"
      }
    },
    {
      "cell_type": "markdown",
      "source": [
        "# Task 1 | **Factorial Calculation**"
      ],
      "metadata": {
        "id": "EHR2t0WFxkJj"
      }
    },
    {
      "cell_type": "code",
      "source": [
        "def factorial(n):\n",
        "  if n==0 or n==1:\n",
        "    return 1\n",
        "  else:\n",
        "    return n * factorial(n-1)\n",
        "\n",
        "n = int(input(\"n!: \"))\n",
        "result = factorial(n)\n",
        "print(f\"Factorial of {n} is {result}\")"
      ],
      "metadata": {
        "colab": {
          "base_uri": "https://localhost:8080/"
        },
        "id": "URxnr2AFxvHb",
        "outputId": "302c7bb5-9445-416c-d255-66b88889c5ea"
      },
      "execution_count": null,
      "outputs": [
        {
          "output_type": "stream",
          "name": "stdout",
          "text": [
            "n!: 4\n",
            "Factorial of 4 is 24\n"
          ]
        }
      ]
    },
    {
      "cell_type": "markdown",
      "source": [
        "# Task 2 | **Even/Odd Position Case Conversion**"
      ],
      "metadata": {
        "id": "xGVxJ4yzyC-i"
      }
    },
    {
      "cell_type": "code",
      "source": [
        "def transform_word(word):\n",
        "    transformed_word = \"\"\n",
        "    for index, char in enumerate(word):\n",
        "        if index % 2 == 0:\n",
        "            transformed_word += char.lower()\n",
        "        else:\n",
        "            transformed_word += char.upper()\n",
        "    return transformed_word\n",
        "\n",
        "user_input = input(\"Please enter a single word: \")\n",
        "transformed = transform_word(user_input)\n",
        "print(transformed)"
      ],
      "metadata": {
        "colab": {
          "base_uri": "https://localhost:8080/"
        },
        "id": "RQj_NYalyVWD",
        "outputId": "8e0274ff-f8be-4619-c9a6-fcd5fac68e89"
      },
      "execution_count": null,
      "outputs": [
        {
          "output_type": "stream",
          "name": "stdout",
          "text": [
            "Please enter a single word: samsung\n",
            "sAmSuNg\n"
          ]
        }
      ]
    },
    {
      "cell_type": "markdown",
      "source": [
        "# Task 3 | **Caesar Cipher Exercises**"
      ],
      "metadata": {
        "id": "qz6T67YsyX2b"
      }
    },
    {
      "cell_type": "markdown",
      "source": [
        "a) Encryption with Shift 3"
      ],
      "metadata": {
        "id": "hpI7BX6d43Ux"
      }
    },
    {
      "cell_type": "code",
      "source": [
        "def encrypt_caesar(plain_text, shift=3):\n",
        "  encrypted_text = \"\"\n",
        "  for char in plain_text:\n",
        "    if char.isalpha():\n",
        "      shift_amount = shift % 26\n",
        "      shifted_char = ord(char) + shift_amount\n",
        "      if char.islower():\n",
        "        if shifted_char > ord('z'):\n",
        "          shifted_char -= 26\n",
        "      elif char.isupper():\n",
        "        if shifted_char > ord('Z'):\n",
        "          shifted_char -= 26\n",
        "      encrypted_text += chr(shifted_char)\n",
        "    else:\n",
        "      encrypted_text += char\n",
        "  return encrypted_text\n",
        "\n",
        "sent = input(\"Enter a sentence: \")\n",
        "encrypted_message = encrypt_caesar(sent)\n",
        "print(\"Encrypted message:\", encrypted_message)"
      ],
      "metadata": {
        "colab": {
          "base_uri": "https://localhost:8080/"
        },
        "id": "AI5nwwlT5GIo",
        "outputId": "4937f619-55bb-4765-b8d1-d08d3e4d78ac"
      },
      "execution_count": null,
      "outputs": [
        {
          "output_type": "stream",
          "name": "stdout",
          "text": [
            "Enter a sentence: I am study\n",
            "Encrypted message: L dp vwxgb\n"
          ]
        }
      ]
    },
    {
      "cell_type": "markdown",
      "source": [
        "b) Decryption with Shift 3"
      ],
      "metadata": {
        "id": "M9bzjPHJ5Jvx"
      }
    },
    {
      "cell_type": "code",
      "source": [
        "def decrypt_caesar(encrypted_text, shift=3):\n",
        "        decrypted_text = \"\"\n",
        "        for char in encrypted_text:\n",
        "            if char.isalpha():\n",
        "                shift_amount = shift % 26\n",
        "                shifted_char = ord(char) - shift_amount\n",
        "                if char.islower():\n",
        "                    if shifted_char < ord('a'):\n",
        "                        shifted_char += 26\n",
        "                elif char.isupper():\n",
        "                    if shifted_char < ord('A'):\n",
        "                        shifted_char += 26\n",
        "                decrypted_text += chr(shifted_char)\n",
        "            else:\n",
        "                decrypted_text += char\n",
        "        return decrypted_text\n",
        "\n",
        "sent = input(\"Enter an encrypted sentence: \")\n",
        "decrypted_message = decrypt_caesar(sent)\n",
        "print(\"Decrypted message:\", decrypted_message)"
      ],
      "metadata": {
        "colab": {
          "base_uri": "https://localhost:8080/"
        },
        "id": "OXKZaipu5N05",
        "outputId": "dc4d199e-4e49-49e1-fba2-aa19274f1cce"
      },
      "execution_count": null,
      "outputs": [
        {
          "output_type": "stream",
          "name": "stdout",
          "text": [
            "Enter an encrypted sentence: L dp vwxgb\n",
            "Decrypted message: I am study\n"
          ]
        }
      ]
    },
    {
      "cell_type": "markdown",
      "source": [
        "c) Encryption/Decryption with Shift N"
      ],
      "metadata": {
        "id": "zKCtQddU5OdB"
      }
    },
    {
      "cell_type": "code",
      "source": [
        "# modified encrypt\n",
        "def encrypt_caesar(plain_text, shift):\n",
        "    encrypted_text = \"\"\n",
        "    for char in plain_text:\n",
        "        if char.isalpha():\n",
        "            shift_amount = shift % 26\n",
        "            shifted_char = ord(char) + shift_amount\n",
        "            if char.islower():\n",
        "                if shifted_char > ord('z'):\n",
        "                    shifted_char -= 26\n",
        "            elif char.isupper():\n",
        "                if shifted_char > ord('Z'):\n",
        "                    shifted_char -= 26\n",
        "            encrypted_text += chr(shifted_char)\n",
        "        else:\n",
        "            encrypted_text += char\n",
        "    return encrypted_text\n",
        "\n",
        "# Get user input for shift and text\n",
        "shift_value = int(input(\"Enter a shift value (0-10): \"))\n",
        "if not (0 <= shift_value <= 10):\n",
        "    print(\"Shift value must be between 0 and 10.\")\n",
        "else:\n",
        "    sent = input(\"Enter a sentence: \")\n",
        "    encrypted_message = encrypt_caesar(sent, shift_value)\n",
        "    print(\"Encrypted message:\", encrypted_message)\n",
        "\n",
        "# modified decrypt\n",
        "def decrypt_caesar(encrypted_text, shift):\n",
        "    decrypted_text = \"\"\n",
        "    for char in encrypted_text:\n",
        "        if char.isalpha():\n",
        "            shift_amount = shift % 26\n",
        "            shifted_char = ord(char) - shift_amount\n",
        "            if char.islower():\n",
        "                if shifted_char < ord('a'):\n",
        "                    shifted_char += 26\n",
        "            elif char.isupper():\n",
        "                if shifted_char < ord('A'):\n",
        "                    shifted_char += 26\n",
        "            decrypted_text += chr(shifted_char)\n",
        "        else:\n",
        "            decrypted_text += char\n",
        "    return decrypted_text\n",
        "\n",
        "# Get user input for shift and text\n",
        "shift_value = int(input(\"Enter a shift value (0-10): \"))\n",
        "if not (0 <= shift_value <= 10):\n",
        "    print(\"Shift value must be between 0 and 10.\")\n",
        "else:\n",
        "    sent = input(\"Enter an encrypted sentence: \")\n",
        "    decrypted_message = decrypt_caesar(sent, shift_value)\n",
        "    print(\"Decrypted message:\", decrypted_message)"
      ],
      "metadata": {
        "id": "nUisgzl35UE5",
        "colab": {
          "base_uri": "https://localhost:8080/"
        },
        "outputId": "ab33c3ff-36a6-4862-e9d7-d244e6b9248c"
      },
      "execution_count": null,
      "outputs": [
        {
          "output_type": "stream",
          "name": "stdout",
          "text": [
            "Enter a shift value (0-10): 6\n",
            "Enter a sentence: I am study\n",
            "Encrypted message: O gs yzaje\n",
            "Enter a shift value (0-10): 6\n",
            "Enter an encrypted sentence: O gs yzaje\n",
            "Decrypted message: I am study\n"
          ]
        }
      ]
    }
  ]
}