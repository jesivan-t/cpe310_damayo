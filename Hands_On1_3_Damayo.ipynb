{
  "cells": [
    {
      "cell_type": "markdown",
      "metadata": {
        "id": "view-in-github",
        "colab_type": "text"
      },
      "source": [
        "<a href=\"https://colab.research.google.com/github/jesivan-t/cpe310_damayo/blob/main/Hands_On1_3_Damayo.ipynb\" target=\"_parent\"><img src=\"https://colab.research.google.com/assets/colab-badge.svg\" alt=\"Open In Colab\"/></a>"
      ]
    },
    {
      "cell_type": "markdown",
      "metadata": {
        "id": "mamN8VS6BLKL"
      },
      "source": [
        "**Exercise # 1: Random Numbers**"
      ]
    },
    {
      "cell_type": "code",
      "execution_count": null,
      "metadata": {
        "colab": {
          "base_uri": "https://localhost:8080/"
        },
        "id": "nVDqDn7lAkN9",
        "outputId": "f57a0c08-9009-4191-8222-bce5b570f287"
      },
      "outputs": [
        {
          "output_type": "stream",
          "name": "stdout",
          "text": [
            "0.19880253610578302\n",
            "0.6487758927693004\n",
            "0.08334765931952914\n",
            "0.1923462139989962\n",
            "0.5378443555060066\n",
            "0.04531300249278536\n",
            "0.8566148354796226\n",
            "0.05340262897458348\n",
            "0.183444331212535\n",
            "0.37798945619036184\n"
          ]
        }
      ],
      "source": [
        "import random\n",
        "\n",
        "for i in range(10):\n",
        "    x = random.random()\n",
        "    print(x)"
      ]
    },
    {
      "cell_type": "markdown",
      "metadata": {
        "id": "S2p9E8e5FkEn"
      },
      "source": [
        "**Exercise # 2: Definitions and uses**"
      ]
    },
    {
      "cell_type": "code",
      "execution_count": null,
      "metadata": {
        "colab": {
          "base_uri": "https://localhost:8080/",
          "height": 211
        },
        "id": "u2l-u07VFr7i",
        "outputId": "6a91c5df-230a-4ff3-c7a3-7f9cb2693cd1"
      },
      "outputs": [
        {
          "output_type": "error",
          "ename": "NameError",
          "evalue": "name 'repeat_lyrics' is not defined",
          "traceback": [
            "\u001b[0;31m---------------------------------------------------------------------------\u001b[0m",
            "\u001b[0;31mNameError\u001b[0m                                 Traceback (most recent call last)",
            "\u001b[0;32m<ipython-input-36-8c577a23a87e>\u001b[0m in \u001b[0;36m<cell line: 0>\u001b[0;34m()\u001b[0m\n\u001b[0;32m----> 1\u001b[0;31m \u001b[0mrepeat_lyrics\u001b[0m\u001b[0;34m(\u001b[0m\u001b[0;34m)\u001b[0m\u001b[0;34m\u001b[0m\u001b[0;34m\u001b[0m\u001b[0m\n\u001b[0m\u001b[1;32m      2\u001b[0m \u001b[0;32mdef\u001b[0m \u001b[0mprint_lyrics\u001b[0m\u001b[0;34m(\u001b[0m\u001b[0;34m)\u001b[0m\u001b[0;34m:\u001b[0m\u001b[0;34m\u001b[0m\u001b[0;34m\u001b[0m\u001b[0m\n\u001b[1;32m      3\u001b[0m     \u001b[0mprint\u001b[0m\u001b[0;34m(\u001b[0m\u001b[0;34m\"I'm a lumberjack, and I'm okay.\"\u001b[0m\u001b[0;34m)\u001b[0m\u001b[0;34m\u001b[0m\u001b[0;34m\u001b[0m\u001b[0m\n\u001b[1;32m      4\u001b[0m     \u001b[0mprint\u001b[0m\u001b[0;34m(\u001b[0m\u001b[0;34m'I sleep all night and I work all day.'\u001b[0m\u001b[0;34m)\u001b[0m\u001b[0;34m\u001b[0m\u001b[0;34m\u001b[0m\u001b[0m\n\u001b[1;32m      5\u001b[0m \u001b[0;34m\u001b[0m\u001b[0m\n",
            "\u001b[0;31mNameError\u001b[0m: name 'repeat_lyrics' is not defined"
          ]
        }
      ],
      "source": [
        "repeat_lyrics()\n",
        "def print_lyrics():\n",
        "    print(\"I'm a lumberjack, and I'm okay.\")\n",
        "    print('I sleep all night and I work all day.')\n",
        "\n",
        "def repeat_lyrics():\n",
        "    print_lyrics()\n",
        "    print_lyrics()"
      ]
    },
    {
      "cell_type": "markdown",
      "metadata": {
        "id": "jaqUjOGMBr6K"
      },
      "source": [
        "**Exercise # 3: Definitions and uses**"
      ]
    },
    {
      "cell_type": "code",
      "execution_count": null,
      "metadata": {
        "colab": {
          "base_uri": "https://localhost:8080/"
        },
        "id": "TKsyTW5pBxUa",
        "outputId": "43344cfe-6c44-4e32-b5a6-25652ae4bd41"
      },
      "outputs": [
        {
          "name": "stdout",
          "output_type": "stream",
          "text": [
            "I'm a lumberjack, and I'm okay.\n",
            "I sleep all night and I work all day.\n",
            "I'm a lumberjack, and I'm okay.\n",
            "I sleep all night and I work all day.\n"
          ]
        }
      ],
      "source": [
        "def repeat_lyrics():\n",
        "    print_lyrics()\n",
        "    print_lyrics()\n",
        "\n",
        "def print_lyrics():\n",
        "    print(\"I'm a lumberjack, and I'm okay.\")\n",
        "    print('I sleep all night and I work all day.')\n",
        "\n",
        "repeat_lyrics()"
      ]
    },
    {
      "cell_type": "markdown",
      "metadata": {
        "id": "Am8SzdbLIhwG"
      },
      "source": [
        "**Exercise # 5**"
      ]
    },
    {
      "cell_type": "code",
      "execution_count": null,
      "metadata": {
        "colab": {
          "base_uri": "https://localhost:8080/"
        },
        "id": "dKjpiV2yIlwu",
        "outputId": "30f5df7c-7633-4581-9866-d0321f2b513e"
      },
      "outputs": [
        {
          "name": "stdout",
          "output_type": "stream",
          "text": [
            "ABC\n",
            "Zap\n",
            "ABC\n"
          ]
        }
      ],
      "source": [
        "def fred():\n",
        "   print(\"Zap\")\n",
        "\n",
        "def jane():\n",
        "   print(\"ABC\")\n",
        "\n",
        "jane()\n",
        "fred()\n",
        "jane()"
      ]
    },
    {
      "cell_type": "markdown",
      "metadata": {
        "id": "rYN1c5LsJ332"
      },
      "source": [
        "**Exercise # 6**"
      ]
    },
    {
      "cell_type": "code",
      "execution_count": null,
      "metadata": {
        "colab": {
          "base_uri": "https://localhost:8080/"
        },
        "id": "caVVyURdJ2iz",
        "outputId": "a81444dc-92f9-48e3-e45b-e06c047bd65e"
      },
      "outputs": [
        {
          "output_type": "stream",
          "name": "stdout",
          "text": [
            "Enter Hours: six\n",
            "Invalid input.\n"
          ]
        }
      ],
      "source": [
        "def compute_gross_pay(hours, rate):\n",
        "    return hours * rate\n",
        "\n",
        "try:\n",
        "    hours = float(input(\"Enter Hours: \"))\n",
        "    rate = float(input(\"Enter Rate: \"))\n",
        "\n",
        "    pay = compute_gross_pay(hours, rate)\n",
        "\n",
        "    print(f\"Pay: {pay:.2f}\")\n",
        "except ValueError:\n",
        "    print(\"Invalid input.\")"
      ]
    },
    {
      "cell_type": "markdown",
      "metadata": {
        "id": "3zROxws8MD7-"
      },
      "source": [
        "**Exercise # 6**"
      ]
    },
    {
      "cell_type": "code",
      "execution_count": null,
      "metadata": {
        "colab": {
          "base_uri": "https://localhost:8080/"
        },
        "id": "d2bbzIjmMGtJ",
        "outputId": "61c4d611-e230-477d-8162-aa12ef139afe"
      },
      "outputs": [
        {
          "output_type": "stream",
          "name": "stdout",
          "text": [
            "Enter Hours: 12\n",
            "Enter Rate: 3.6\n",
            "Pay: 43.20\n"
          ]
        }
      ],
      "source": [
        "def computepay(hours, rate):\n",
        "    overtime_hours = max(0, hours - 40)\n",
        "    regular_hours = min(hours, 40)\n",
        "\n",
        "    regular_pay = regular_hours * rate\n",
        "    overtime_pay = overtime_hours * rate * 1.5\n",
        "\n",
        "    return regular_pay + overtime_pay\n",
        "\n",
        "try:\n",
        "    hours = float(input(\"Enter Hours: \"))\n",
        "    rate = float(input(\"Enter Rate: \"))\n",
        "\n",
        "    pay = computepay(hours, rate)\n",
        "\n",
        "    print(f\"Pay: {pay:.2f}\")\n",
        "except ValueError:\n",
        "    print(\"Invalid input.\")"
      ]
    },
    {
      "cell_type": "markdown",
      "metadata": {
        "id": "1UBgjyl9Ognq"
      },
      "source": [
        "**Exercise # 7A**"
      ]
    },
    {
      "cell_type": "code",
      "execution_count": null,
      "metadata": {
        "colab": {
          "base_uri": "https://localhost:8080/"
        },
        "id": "NGr2a4-YOkMX",
        "outputId": "f821c5fc-2700-4ab1-ce41-8700a8470aac"
      },
      "outputs": [
        {
          "output_type": "stream",
          "name": "stdout",
          "text": [
            "Enter score: 0.5\n",
            "F\n"
          ]
        }
      ],
      "source": [
        "score_input = input(\"Enter score: \")\n",
        "\n",
        "try:\n",
        "    score = float(score_input)\n",
        "\n",
        "    if score < 0.0 or score > 1.0:\n",
        "        print(\"Bad score\")\n",
        "    else:\n",
        "        if score >= 0.9:\n",
        "            grade = 'A'\n",
        "        elif score >= 0.8:\n",
        "            grade = 'B'\n",
        "        elif score >= 0.7:\n",
        "            grade = 'C'\n",
        "        elif score >= 0.6:\n",
        "            grade = 'D'\n",
        "        else:\n",
        "            grade = 'F'\n",
        "\n",
        "        print(f\"{grade}\")\n",
        "\n",
        "except ValueError:\n",
        "    print(\"Bad score\")"
      ]
    },
    {
      "cell_type": "markdown",
      "source": [
        "**Exercise # 7B**"
      ],
      "metadata": {
        "id": "Z7Lcs3HeEyjf"
      }
    },
    {
      "cell_type": "code",
      "source": [
        "def computegrade(score):\n",
        "    if score < 0.0 or score > 1.0:\n",
        "        return \"Bad score\"\n",
        "    else:\n",
        "        if score >= 0.9:\n",
        "            return 'A'\n",
        "        elif score >= 0.8:\n",
        "            return 'B'\n",
        "        elif score >= 0.7:\n",
        "            return 'C'\n",
        "        elif score >= 0.6:\n",
        "            return 'D'\n",
        "        else:\n",
        "            return 'F'\n",
        "\n",
        "score_input = input(\"Enter score: \")\n",
        "\n",
        "try:\n",
        "    score = float(score_input)\n",
        "    grade = computegrade(score)\n",
        "    print(f\"{grade}\")\n",
        "\n",
        "except ValueError:\n",
        "    print(\"Bad score\")"
      ],
      "metadata": {
        "colab": {
          "base_uri": "https://localhost:8080/"
        },
        "id": "Cuts2wdFE33v",
        "outputId": "d795bde6-8d3d-4dbb-9c08-0c618526d58d"
      },
      "execution_count": null,
      "outputs": [
        {
          "output_type": "stream",
          "name": "stdout",
          "text": [
            "Enter score: 0.5\n",
            "F\n"
          ]
        }
      ]
    }
  ],
  "metadata": {
    "colab": {
      "provenance": [],
      "authorship_tag": "ABX9TyOegO7WX1Ch9MeXcvPzAx5f",
      "include_colab_link": true
    },
    "kernelspec": {
      "display_name": "Python 3",
      "name": "python3"
    },
    "language_info": {
      "name": "python"
    }
  },
  "nbformat": 4,
  "nbformat_minor": 0
}