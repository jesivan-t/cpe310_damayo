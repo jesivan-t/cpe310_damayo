{
  "nbformat": 4,
  "nbformat_minor": 0,
  "metadata": {
    "colab": {
      "provenance": [],
      "include_colab_link": true
    },
    "kernelspec": {
      "name": "python3",
      "display_name": "Python 3"
    },
    "language_info": {
      "name": "python"
    }
  },
  "cells": [
    {
      "cell_type": "markdown",
      "metadata": {
        "id": "view-in-github",
        "colab_type": "text"
      },
      "source": [
        "<a href=\"https://colab.research.google.com/github/jesivan-t/cpe310_damayo/blob/main/AssessmentTask1_2BAUTISTA_DAMAYO.ipynb\" target=\"_parent\"><img src=\"https://colab.research.google.com/assets/colab-badge.svg\" alt=\"Open In Colab\"/></a>"
      ]
    },
    {
      "cell_type": "markdown",
      "source": [
        "Czeckinah Grace B. Bautista, Jes Ivan T. Damayo | IE22S2 | CPE 310 - Fundamentals of Data Science | Engr. Roman M. Richard | Python Milestone Activity"
      ],
      "metadata": {
        "id": "ckb4ELZx4KJx"
      }
    },
    {
      "cell_type": "markdown",
      "source": [
        "# Exercise 1: Weather Monitoring System"
      ],
      "metadata": {
        "id": "4YfkAmtZ4fYh"
      }
    },
    {
      "cell_type": "code",
      "source": [
        "print(\"Weather Monitoring System\")\n",
        "print(\"Select one from the following options:\")\n",
        "print(\"(1) Convert Celsius to Fahrenheit\")\n",
        "print(\"(2) Convert Fahrenheit to Celsius\")\n",
        "print(\"(3) Convert Celsius to Kelvin\")\n",
        "\n",
        "option = input(\" \")\n",
        "\n",
        "print(f\"\\n\\nYour choice: {option}\")\n",
        "\n",
        "# Task 1: Convert Celsius to Fahrenheit\n",
        "def celsius_to_fahrenheit(celsius):\n",
        "    \"\"\"Convert Celsius to Fahrenheit.\"\"\"\n",
        "    return (celsius * 9/5) + 32\n",
        "\n",
        "# Task 2: Convert Fahrenheit to Celsius\n",
        "def fahrenheit_to_celsius(fahrenheit):\n",
        "    \"\"\"Convert Fahrenheit to Celsius.\"\"\"\n",
        "    return (fahrenheit - 32) * 5/9\n",
        "\n",
        "# Task 3: Convert Celsius to Kelvin\n",
        "def celsius_to_kelvin(celsius):\n",
        "    \"\"\"Convert Celsius to Kelvin.\"\"\"\n",
        "    return celsius + 273.15\n",
        "\n",
        "# Task 4: Main program\n",
        "if option == '1':\n",
        "  celsius = float(input(\"Enter temperature in Celsius: \"))\n",
        "  fahrenheit = celsius_to_fahrenheit(celsius)\n",
        "  print(f\"{celsius}°C is equal to {fahrenheit:.2f}°F\")\n",
        "\n",
        "elif option == '2':\n",
        "  fahrenheit = float(input(\"Enter temperature in Fahrenheit: \"))\n",
        "  celsius = fahrenheit_to_celsius(fahrenheit)\n",
        "  print(f\"{fahrenheit}°F is equal to {celsius:.2f}°C\")\n",
        "\n",
        "elif option == '3':\n",
        "  celsius = float(input(\"Enter temperature in Celsius: \"))\n",
        "  kelvin = celsius_to_kelvin(celsius)\n",
        "  print(f\"{celsius}°C is equal to {kelvin:.2f} K\")\n",
        "\n",
        "else:\n",
        "  print(\"Invalid option. Select only from 1, 2, and 3.\")\n",
        "\n",
        "if name == \"main\":\n",
        "    main()"
      ],
      "metadata": {
        "colab": {
          "base_uri": "https://localhost:8080/"
        },
        "id": "DNoBYiHS4khx",
        "outputId": "e7736afb-68e7-45d7-f928-079cf445d742"
      },
      "execution_count": null,
      "outputs": [
        {
          "output_type": "stream",
          "name": "stdout",
          "text": [
            "Weather Monitoring System\n",
            "Select one from the following options:\n",
            "(1) Convert Celsius to Fahrenheit\n",
            "(2) Convert Fahrenheit to Celsius\n",
            "(3) Convert Celsius to Kelvin\n",
            " 2\n",
            "\n",
            "\n",
            "Your choice: 2\n",
            "Enter temperature in Fahrenheit: 567\n",
            "567.0°F is equal to 297.22°C\n"
          ]
        }
      ]
    },
    {
      "cell_type": "markdown",
      "source": [
        "# Exercise 2: Text-based Game Development"
      ],
      "metadata": {
        "id": "0crVEe-g4m0C"
      }
    },
    {
      "cell_type": "code",
      "source": [
        "# Task 1: Reverse a Command\n",
        "def reverse_command(command):\n",
        "    return command[::-1]\n",
        "\n",
        "# Task 2: Check if Command is a Palindrome\n",
        "def is_palindrome(command):\n",
        "    return command == command[::-1]\n",
        "\n",
        "# Task 3: Count Vowels in a Command\n",
        "def count_vowels(command):\n",
        "    vowels = \"aeiouAEIOU\"\n",
        "    return sum(1 for char in command if char in vowels)\n",
        "\n",
        "# Task 4: Main Program\n",
        "def text_game():\n",
        "    print(\"Text-Based Adventure Game\")\n",
        "    command = input(\"Enter a command: \")\n",
        "\n",
        "    print(\"Reversed command:\", reverse_command(command))\n",
        "    if is_palindrome(command):\n",
        "        print(\"Secret door unlocked!\")\n",
        "    print(\"Vowel count (spell strength):\", count_vowels(command))\n",
        "\n",
        "text_game()"
      ],
      "metadata": {
        "id": "ScTVM6cj4svB",
        "colab": {
          "base_uri": "https://localhost:8080/"
        },
        "outputId": "0ebe6e79-e62e-499b-954a-71bfd22e60a3"
      },
      "execution_count": null,
      "outputs": [
        {
          "output_type": "stream",
          "name": "stdout",
          "text": [
            "Text-Based Adventure Game\n",
            "Enter a command: czeckinah grace bautista\n",
            "Reversed command: atsituab ecarg hanikcezc\n",
            "Vowel count (spell strength): 9\n"
          ]
        }
      ]
    },
    {
      "cell_type": "markdown",
      "source": [
        "# Exercise 3: Personal Finance Manager"
      ],
      "metadata": {
        "id": "zvIyw_Er4tZ5"
      }
    },
    {
      "cell_type": "code",
      "source": [
        "# Task 1: Add Income\n",
        "def add_income(income, total):\n",
        "    return total + income\n",
        "\n",
        "# Task 2: Subtract Expense\n",
        "def subtract_expense(expense, total):\n",
        "    return total - expense\n",
        "\n",
        "# Task 3: Calculate Balance\n",
        "def calculate_balance(income, expenses):\n",
        "    return income - expenses\n",
        "\n",
        "# Task 4: Main Program\n",
        "def finance_manager():\n",
        "    print(\"Personal Finance Manager\")\n",
        "    total_income = float(input(\"Enter your total income: \"))\n",
        "    total_expenses = float(input(\"Enter your total expenses: \"))\n",
        "\n",
        "    balance = calculate_balance(total_income, total_expenses)\n",
        "    print(f\"Your remaining balance is: ${balance}\")\n",
        "\n",
        "    if balance < 0:\n",
        "        print(\"Warning: Expenses exceed income!\")\n",
        "\n",
        "finance_manager()"
      ],
      "metadata": {
        "id": "hKxrl0Xv42zS",
        "colab": {
          "base_uri": "https://localhost:8080/"
        },
        "outputId": "58e7924b-97ef-4b1a-de6a-50e25e46ba69"
      },
      "execution_count": null,
      "outputs": [
        {
          "output_type": "stream",
          "name": "stdout",
          "text": [
            "Personal Finance Manager\n",
            "Enter your total income: 50000\n",
            "Enter your total expenses: 200000\n",
            "Your remaining balance is: $-150000.0\n",
            "Warning: Expenses exceed income!\n"
          ]
        }
      ]
    },
    {
      "cell_type": "markdown",
      "source": [
        "# Exercise 4: Event Planning System"
      ],
      "metadata": {
        "id": "QxAD2uNa43L5"
      }
    },
    {
      "cell_type": "code",
      "source": [
        "# Task 1: Factorial (using iteration to prevent recursion error)\n",
        "def factorial(n):\n",
        "    if n < 0:\n",
        "        return \"Invalid input. Number must be non-negative.\"\n",
        "    result = 1\n",
        "    for i in range(1, n + 1):\n",
        "        result *= i\n",
        "    return result\n",
        "\n",
        "# Task 2: Fibonacci (using iteration for better performance)\n",
        "def fibonacci(n):\n",
        "    if n < 0:\n",
        "        return \"Invalid input. Number must be non-negative.\"\n",
        "    elif n == 0:\n",
        "        return 0\n",
        "    elif n == 1:\n",
        "        return 1\n",
        "    a, b = 0, 1\n",
        "    for _ in range(2, n + 1):\n",
        "        a, b = b, a + b\n",
        "    return b\n",
        "\n",
        "# Task 3: Sum Total Guests\n",
        "def total_guests(events):\n",
        "    return sum(events)\n",
        "\n",
        "# Task 4: Main Program\n",
        "def event_planner():\n",
        "    print(\"Event Planning System\")\n",
        "    try:\n",
        "        num_events = int(input(\"Enter number of events: \"))\n",
        "        if num_events <= 0:\n",
        "            print(\"Please enter a positive number of events.\")\n",
        "            return\n",
        "\n",
        "        guests = []\n",
        "        for i in range(num_events):\n",
        "            guest_count = int(input(f\"Enter guests for event {i + 1}: \"))\n",
        "            if guest_count < 0:\n",
        "                print(\"Guest count cannot be negative.\")\n",
        "                return\n",
        "            guests.append(guest_count)\n",
        "\n",
        "        total = total_guests(guests)\n",
        "        print(f\"Total guests across all events: {total}\")\n",
        "        print(f\"Seating arrangements (factorial of total guests): {factorial(total)}\")\n",
        "        print(f\"Event priority (Fibonacci of total guests): {fibonacci(total)}\")\n",
        "\n",
        "    except ValueError:\n",
        "        print(\"Invalid input. Please enter numbers only.\")\n",
        "\n",
        "event_planner()"
      ],
      "metadata": {
        "id": "Hr1LftIl47TQ",
        "colab": {
          "base_uri": "https://localhost:8080/"
        },
        "outputId": "0bee1048-731e-4272-ba2d-47bfab1bf9aa"
      },
      "execution_count": null,
      "outputs": [
        {
          "output_type": "stream",
          "name": "stdout",
          "text": [
            "Event Planning System\n",
            "Enter number of events: 2\n",
            "Enter guests for event 1: 78\n",
            "Enter guests for event 2: 56\n",
            "Total guests across all events: 134\n",
            "Seating arrangements (factorial of total guests): 1992942746161518876737324194182948445222558439641379420268181650403332765909000151088003004705990626788174304488982644980314383013435909872030129915047718433336536425741860482713199069412263880294400000000000000000000000000000000\n",
            "Event priority (Fibonacci of total guests): 4517090495650391871408712937\n"
          ]
        }
      ]
    },
    {
      "cell_type": "markdown",
      "source": [
        "# Exercise 5: Inventory Management System"
      ],
      "metadata": {
        "id": "a8atTxeU47rT"
      }
    },
    {
      "cell_type": "code",
      "source": [
        "def find_max_price(products):\n",
        "    return max(products, key=lambda x: x['price'])\n",
        "\n",
        "def find_min_stock(products):\n",
        "    return min(products, key=lambda x: x['stock'])\n",
        "\n",
        "def average_price(products):\n",
        "    total_price = sum(product['price'] for product in products)\n",
        "    return total_price / len(products)\n",
        "\n",
        "def remove_out_of_stock(products):\n",
        "    return [product for product in products if product['stock'] > 0]\n",
        "\n",
        "products = []\n",
        "\n",
        "while True:\n",
        "    name = input(\"Enter the product name (or 'done' to finish): \")\n",
        "    if name.lower() == 'done':\n",
        "        break\n",
        "\n",
        "    while True:\n",
        "        try:\n",
        "            price = float(input(\"Enter the price of the product: \"))\n",
        "            break\n",
        "        except ValueError:\n",
        "            print(\"Error. Enter numeric values only.\")\n",
        "\n",
        "    while True:\n",
        "        try:\n",
        "            stock = int(input(\"Enter the stock of the product: \"))  # Fixed here\n",
        "            break\n",
        "        except ValueError:\n",
        "            print(\"Error. Enter numeric values only.\")\n",
        "\n",
        "    products.append({'name': name, 'price': price, 'stock': stock})  # Correct variable names here\n",
        "\n",
        "if products:\n",
        "    # Task 1: Finding the most expensive product\n",
        "    max_price_product = find_max_price(products)\n",
        "    print(f\"The most expensive product is: {max_price_product['name']} at ${max_price_product['price']:.2f}\")\n",
        "\n",
        "    # Task 2: Finding the product with the lowest stock\n",
        "    min_stock_product = find_min_stock(products)\n",
        "    print(f\"The product with the lowest stock is: {min_stock_product['name']} with {min_stock_product['stock']} units\")\n",
        "\n",
        "    # Task 3: Calculating the average price\n",
        "    avg_price = average_price(products)\n",
        "    print(f\"The average price of products is: ${avg_price:.2f}\")\n",
        "\n",
        "    # Task 4: Removing out of stock products\n",
        "    updated_products = remove_out_of_stock(products)\n",
        "    print(f\"There are now {len(updated_products)} products in stock after removal of out-of-stock items.\")\n",
        "\n",
        "else:\n",
        "    print(\"No products were added.\")"
      ],
      "metadata": {
        "id": "BG9EtCma5AX5",
        "colab": {
          "base_uri": "https://localhost:8080/"
        },
        "outputId": "f98075a6-453f-444e-8e40-b741158387e5"
      },
      "execution_count": null,
      "outputs": [
        {
          "output_type": "stream",
          "name": "stdout",
          "text": [
            "Enter the product name (or 'done' to finish): Ice cream\n",
            "Enter the price of the product: 20\n",
            "Enter the stock of the product: 10\n",
            "Enter the product name (or 'done' to finish): Scramble\n",
            "Enter the price of the product: 10\n",
            "Enter the stock of the product: 30\n",
            "Enter the product name (or 'done' to finish): Cotton candy\n",
            "Enter the price of the product: 5\n",
            "Enter the stock of the product: 60\n",
            "Enter the product name (or 'done' to finish): Ice candy\n",
            "Enter the price of the product: 5\n",
            "Enter the stock of the product: 0\n",
            "Enter the product name (or 'done' to finish): done\n",
            "The most expensive product is: Ice cream at $20.00\n",
            "The product with the lowest stock is: Ice candy with 0 units\n",
            "The average price of products is: $10.00\n",
            "There are now 3 products in stock after removal of out-of-stock items.\n"
          ]
        }
      ]
    }
  ]
}