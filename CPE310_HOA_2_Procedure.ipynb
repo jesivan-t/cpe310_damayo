{
  "nbformat": 4,
  "nbformat_minor": 0,
  "metadata": {
    "colab": {
      "provenance": [],
      "authorship_tag": "ABX9TyNDrWUkVZn5VIfxalalf9Fb",
      "include_colab_link": true
    },
    "kernelspec": {
      "name": "python3",
      "display_name": "Python 3"
    },
    "language_info": {
      "name": "python"
    }
  },
  "cells": [
    {
      "cell_type": "markdown",
      "metadata": {
        "id": "view-in-github",
        "colab_type": "text"
      },
      "source": [
        "<a href=\"https://colab.research.google.com/github/jesivan-t/cpe310_damayo/blob/main/CPE310_HOA_2_Procedure.ipynb\" target=\"_parent\"><img src=\"https://colab.research.google.com/assets/colab-badge.svg\" alt=\"Open In Colab\"/></a>"
      ]
    },
    {
      "cell_type": "code",
      "execution_count": null,
      "metadata": {
        "colab": {
          "base_uri": "https://localhost:8080/"
        },
        "id": "3xk-77pICYq1",
        "outputId": "eb0a94eb-da67-4cbf-8ffe-d563f51628e3"
      },
      "outputs": [
        {
          "output_type": "stream",
          "name": "stdout",
          "text": [
            "Enter your number --> 234\n",
            "Test divisibility by --> 23\n",
            "The number  234  is not divisible by  23 \n",
            "\n"
          ]
        }
      ],
      "source": [
        "number = int(input(\"Enter your number --> \"))\n",
        "n = int(input(\"Test divisibility by --> \"))\n",
        "\n",
        "i = number%n\n",
        "\n",
        "if i != 0:\n",
        "  print(\"The number \", number,\" is not divisible by \",n,\"\\n\")\n",
        "else:\n",
        "  print(\"The number \", number,\" is divisible by \",n,\"\\n\")"
      ]
    },
    {
      "cell_type": "code",
      "source": [
        "hidden = \"Mypasscode\"\n",
        "password = input(\"Enter your password: \")\n",
        "\n",
        "if password == hidden:\n",
        "    print (\"You entered the right password\\n\")\n",
        "else:\n",
        "    print (\"Wrong password!!\\n\")"
      ],
      "metadata": {
        "colab": {
          "base_uri": "https://localhost:8080/"
        },
        "id": "pBg33M_VDx7e",
        "outputId": "bfb5d8ab-f4f3-4628-9cf8-9b5ad0ec8e98"
      },
      "execution_count": null,
      "outputs": [
        {
          "output_type": "stream",
          "name": "stdout",
          "text": [
            "Enter your password: Mypasscode\n",
            "You entered the right password\n",
            "\n"
          ]
        }
      ]
    },
    {
      "cell_type": "code",
      "source": [
        "names = [\"John\", \"Jane\", \"Smith\"]\n",
        "j = 0\n",
        "\n",
        "for name in names:\n",
        "    j += 1\n",
        "    print (\"The name number\", j, \"in the list is\", name)"
      ],
      "metadata": {
        "colab": {
          "base_uri": "https://localhost:8080/"
        },
        "id": "TFVrxx9cEOVW",
        "outputId": "b7b9263e-9b0e-465b-b3ff-4fb5f12f3299"
      },
      "execution_count": null,
      "outputs": [
        {
          "output_type": "stream",
          "name": "stdout",
          "text": [
            "The name number 1 in the list is John\n",
            "The name number 2 in the list is Jane\n",
            "The name number 3 in the list is Smith\n"
          ]
        }
      ]
    },
    {
      "cell_type": "code",
      "source": [
        "N = int(input(\"Enter the last integer considered --> \"))\n",
        "Sum = 0\n",
        "for i in range(0, N+1, 1):\n",
        "    Sum += i**2\n",
        "print (\"The sum of the squares between 0 and\", N, \"is\", Sum)"
      ],
      "metadata": {
        "colab": {
          "base_uri": "https://localhost:8080/"
        },
        "id": "kYUo6SDMERom",
        "outputId": "0e063d8b-8c75-4f2d-99bb-1c2eef253d9c"
      },
      "execution_count": null,
      "outputs": [
        {
          "output_type": "stream",
          "name": "stdout",
          "text": [
            "Enter the last integer considered --> 8\n",
            "The sum of the squares between 0 and 8 is 204\n"
          ]
        }
      ]
    },
    {
      "cell_type": "code",
      "source": [
        "N = int(input(\"Enter N --> \"))\n",
        "print (\"Counting numbers from 0 to\", N, \"\\n\")\n",
        "i = 0\n",
        "while i < N+1:\n",
        "    print (i, \"\\n\")\n",
        "    i += 1"
      ],
      "metadata": {
        "colab": {
          "base_uri": "https://localhost:8080/"
        },
        "id": "orTnt0olEest",
        "outputId": "4a7d453c-6bc5-40a7-dc9c-ddb265901da2"
      },
      "execution_count": null,
      "outputs": [
        {
          "output_type": "stream",
          "name": "stdout",
          "text": [
            "Enter N --> 8\n",
            "Counting numbers from 0 to 8 \n",
            "\n",
            "0 \n",
            "\n",
            "1 \n",
            "\n",
            "2 \n",
            "\n",
            "3 \n",
            "\n",
            "4 \n",
            "\n",
            "5 \n",
            "\n",
            "6 \n",
            "\n",
            "7 \n",
            "\n",
            "8 \n",
            "\n"
          ]
        }
      ]
    },
    {
      "cell_type": "code",
      "source": [
        "N = int(input(\"Enter N --> \"))  # Input N\n",
        "for i in range(0, N+1, 1):      # Loop from 0 to N (inclusive)\n",
        "    if i**2 == N:               # Check if i^2 == N\n",
        "        break                   # If so, stop the loop\n",
        "    else:\n",
        "        if i % 5 == 0:          # If i is a multiple of 5\n",
        "            continue            # Skip to the next iteration\n",
        "        print (i, \"\\n\")"
      ],
      "metadata": {
        "colab": {
          "base_uri": "https://localhost:8080/"
        },
        "id": "CKfo3PH3Ep5f",
        "outputId": "af3f744f-5fd6-44f8-c06d-4a4455110208"
      },
      "execution_count": null,
      "outputs": [
        {
          "output_type": "stream",
          "name": "stdout",
          "text": [
            "Enter N --> 5\n",
            "1 \n",
            "\n",
            "2 \n",
            "\n",
            "3 \n",
            "\n",
            "4 \n",
            "\n"
          ]
        }
      ]
    }
  ]
}