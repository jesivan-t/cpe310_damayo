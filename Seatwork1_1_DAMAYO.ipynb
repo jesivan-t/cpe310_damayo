{
  "nbformat": 4,
  "nbformat_minor": 0,
  "metadata": {
    "colab": {
      "provenance": [],
      "authorship_tag": "ABX9TyNW6dMepyfc0vHKhmAV/wCB",
      "include_colab_link": true
    },
    "kernelspec": {
      "name": "python3",
      "display_name": "Python 3"
    },
    "language_info": {
      "name": "python"
    }
  },
  "cells": [
    {
      "cell_type": "markdown",
      "metadata": {
        "id": "view-in-github",
        "colab_type": "text"
      },
      "source": [
        "<a href=\"https://colab.research.google.com/github/jesivan-t/cpe310_damayo/blob/main/Seatwork1_1_DAMAYO.ipynb\" target=\"_parent\"><img src=\"https://colab.research.google.com/assets/colab-badge.svg\" alt=\"Open In Colab\"/></a>"
      ]
    },
    {
      "cell_type": "markdown",
      "source": [
        "Jes Ivan T. Damayo | IE22S2 | CPE 310 - Fundamentals of Data Science | 2/17/2025 | Engr. Roman M. Richard | Seatwork 1.1 Python Fundamentals (Exercise 1)"
      ],
      "metadata": {
        "id": "xggCxAAOwNYz"
      }
    },
    {
      "cell_type": "markdown",
      "source": [
        "**1. SEMESTRAL GRADES**"
      ],
      "metadata": {
        "id": "t15B_z5sK6I3"
      }
    },
    {
      "cell_type": "code",
      "source": [
        "def get_grade(prompt):\n",
        "    while True:\n",
        "        try:\n",
        "            grade = float(input(prompt))\n",
        "            if 0 <= grade <= 100:\n",
        "                return grade\n",
        "            else:\n",
        "                print(\"Value is out of range. Enter values between 0 and 100.\")\n",
        "        except ValueError:\n",
        "            print(\"Invalid input. Please enter a numeric value.\")\n",
        "\n",
        "name = input(\"Student name: \")  # << NAME OF STUDENT\n",
        "\n",
        "    # Collecting grades using the get_grade function\n",
        "pai = get_grade(\"Enter your prelim assignment grade: \")  # << pai = prelim assignment input\n",
        "pqi = get_grade(\"Enter your prelim quiz grade: \")        # << pqi = prelim quiz input\n",
        "phoai = get_grade(\"Enter your prelim grade for HOA: \")   # << phoai = prelim hands-on activity input\n",
        "pexi = get_grade(\"Enter your prelim exam grade: \")       # << pexi = prelim exam input\n",
        "\n",
        "mai = get_grade(\"Enter your midterm assignment grade: \")  # << mai = midterm assignment input\n",
        "mqi = get_grade(\"Enter your midterm quiz grade: \")        # << mqi = midterm quiz input\n",
        "mhoai = get_grade(\"Enter your midterm grade for HOA: \")   # << mhoai = midterm hands-on activity input\n",
        "mexi = get_grade(\"Enter your midterm exam grade: \")       # << mexi = midterm exam input\n",
        "\n",
        "fai = get_grade(\"Enter your final assignment grade: \")     # << fai = final assignment input\n",
        "fqi = get_grade(\"Enter your final quiz grade: \")           # << fqi = final quiz input\n",
        "fhoai = get_grade(\"Enter your final grade for HOA: \")      # << fhoai = final hands-on activity input\n",
        "fexi = get_grade(\"Enter your final exam grade: \")          # << fexi = final exam input\n",
        "\n",
        "    # Prelim calculations\n",
        "prelim_cs = (phoai * 0.5) + (pqi * 0.3) + (pai * 0.2)\n",
        "prelim_grade = (prelim_cs * 0.5) + (pexi * 0.5)\n",
        "\n",
        "    # Midterm calculations\n",
        "midterm_cs = (mhoai * 0.5) + (mqi * 0.3) + (mai * 0.2)\n",
        "midterm_grade = ((1/3 * prelim_cs) + ((2/3) * ((mv4 * 0.5) + (midterm_cs * 0.5))))\n",
        "\n",
        "    # Final calculations\n",
        "final_cs = (fhoai * 0.5) + (fqi * 0.3) + (fai * 0.2)\n",
        "final_grade = ((1/3 * midterm_cs) + ((2/3) * ((fexi * 0.5) + (final_cs * 0.5))))\n",
        "\n",
        "showngrade = float((prelim_grade + midterm_grade + final_grade)/3)\n",
        "totalgrade = float((prelim_grade + midterm_grade + final_grade)/3)\n",
        "\n",
        "print(f\"Your class standing for Prelim is: {prelim_cs:.2f}\")\n",
        "print(f\"Your Prelim grade is: {prelim_grade:.2f}\")\n",
        "\n",
        "print(f\"Your class standing for Midterm is: {midterm_cs:.2f}\")\n",
        "print(f\"Your Midterm grade is: {midterm_grade:.2f}\")\n",
        "\n",
        "print(f\"Your class standing for Finals is: {final_cs:.2f}\")\n",
        "print(f\"Your Finals grade is: {final_grade:.2f}\")"
      ],
      "metadata": {
        "colab": {
          "base_uri": "https://localhost:8080/"
        },
        "id": "izIHCjlI7_jh",
        "outputId": "02eec434-6ef1-4a42-df2c-97ef471df5ff"
      },
      "execution_count": null,
      "outputs": [
        {
          "output_type": "stream",
          "name": "stdout",
          "text": [
            "Student name: Jes Ivan\n",
            "Enter your prelim assignment grade: 980\n",
            "Value is out of range. Enter values between 0 and 100.\n",
            "Enter your prelim assignment grade: 56\n",
            "Enter your prelim quiz grade: 87\n",
            "Enter your prelim grade for HOA: 76\n",
            "Enter your prelim exam grade: 45\n",
            "Enter your midterm assignment grade: 77\n",
            "Enter your midterm quiz grade: 88\n",
            "Enter your midterm grade for HOA: 52\n",
            "Enter your midterm exam grade: 38\n",
            "Enter your final assignment grade: 98\n",
            "Enter your final quiz grade: 65\n",
            "Enter your final grade for HOA: 83\n",
            "Enter your final exam grade: 66\n",
            "Your class standing for Prelim is: 75.30\n",
            "Your Prelim grade is: 60.15\n",
            "Your class standing for Midterm is: 67.80\n",
            "Your Midterm grade is: 61.37\n",
            "Your class standing for Finals is: 80.60\n",
            "Your Finals grade is: 71.47\n"
          ]
        }
      ]
    },
    {
      "cell_type": "markdown",
      "source": [
        "**2. SUPPLEMENTARY ACTIVITY**"
      ],
      "metadata": {
        "id": "ksY512GxQSKX"
      }
    },
    {
      "cell_type": "code",
      "execution_count": null,
      "metadata": {
        "colab": {
          "base_uri": "https://localhost:8080/"
        },
        "id": "634clpOcwMd2",
        "outputId": "ce2cfb66-e7cb-47cf-a8fd-af33a7d11ee2"
      },
      "outputs": [
        {
          "output_type": "stream",
          "name": "stdout",
          "text": [
            "Enter name: Jes Ivan\n",
            "Enter your prelim grade: 50\n",
            "Enter your midterm grade: 59\n",
            "Enter your final grade: 69\n",
            "59.33 results to 2.75 - Fair\n"
          ]
        }
      ],
      "source": [
        "name = input(\"Enter name: \")  # << NAME OF FIRST STUDENT\n",
        "\n",
        "pgi = input(\"Enter your prelim grade: \")    # << pgi - Prelim Grade Input\n",
        "mgi = input(\"Enter your midterm grade: \")   # << mgi - Midterm Grade Input\n",
        "fgi = input(\"Enter your final grade: \")     # << fgi - Final Grade Input\n",
        "\n",
        "try:\n",
        "\n",
        "    v1 = float(pgi)        # v = Value\n",
        "    v2 = float(mgi)\n",
        "    v3 = float(fgi)\n",
        "\n",
        "    showngrade = float((v1 + v2 + v3)/3)\n",
        "    grade = float((v1 + v2 + v3)/3)\n",
        "\n",
        "# << GRADING SCHEME >>\n",
        "    if grade < 0.0 or grade > 100.0: # << If input value is less than 0 or exceeds 100, an error\n",
        "                                        # is shown at the end of the computation.\n",
        "        print(\"Wrong value.\")\n",
        "    else:\n",
        "        if grade >= 94 and grade <= 100.0:\n",
        "            grade = '1.00 - Excellent'\n",
        "        elif grade >= 88.5 and grade <= 93.99:\n",
        "            grade = '1.25 - Superior'\n",
        "        elif grade >= 83 and grade <= 88.49:\n",
        "            grade = '1.50 - Meritorious'\n",
        "        elif grade >= 77.5 and grade <= 82.99:\n",
        "            grade = '1.75 - Very Good'\n",
        "        elif grade >= 72 and grade <= 77.49:\n",
        "            grade = '2.00 - Good'\n",
        "        elif grade >= 65.5 and grade <= 71.99:\n",
        "            grade = '2.25 - Very Satisfactory'\n",
        "        elif grade >= 61 and grade <= 65.49:\n",
        "            grade = '2.50 - Satisfactory'\n",
        "        elif grade >= 55.5 and grade <= 60.99:\n",
        "            grade = '2.75 - Fair'\n",
        "        elif grade >= 50 and grade <= 55.49:\n",
        "            grade = '3.00 - Passing'\n",
        "        else:\n",
        "            grade = '5.00 - Failed'\n",
        "# << OUTPUT >>\n",
        "        print(f\"{showngrade:.2f} results to {grade}\")\n",
        "\n",
        "except ValueError:\n",
        "    print(\"Invalid input\")"
      ]
    },
    {
      "cell_type": "code",
      "source": [
        "name = input(\"Enter name: \")  # << NAME OF SECOND STUDENT\n",
        "\n",
        "pgi = input(\"Enter your prelim grade: \")    # << pgi - Prelim Grade Input\n",
        "mgi = input(\"Enter your midterm grade: \")   # << mgi - Midterm Grade Input\n",
        "fgi = input(\"Enter your final grade: \")     # << fgi - Final Grade Input\n",
        "\n",
        "try:\n",
        "\n",
        "    v1 = float(pgi)        # v = Value\n",
        "    v2 = float(mgi)\n",
        "    v3 = float(fgi)\n",
        "\n",
        "    showngrade = float((v1 + v2 + v3)/3)\n",
        "    grade = float((v1 + v2 + v3)/3)\n",
        "\n",
        "# << GRADING SCHEME >>\n",
        "    if grade < 0.0 or grade > 100.0: # << If input value is less than 0 or exceeds 100, an error\n",
        "                                        # is shown at the end of the computation.\n",
        "        print(\"Wrong value.\")\n",
        "    else:\n",
        "        if grade >= 94 and grade <= 100.0:\n",
        "            grade = '1.00 - Excellent'\n",
        "        elif grade >= 88.5 and grade <= 93.99:\n",
        "            grade = '1.25 - Superior'\n",
        "        elif grade >= 83 and grade <= 88.49:\n",
        "            grade = '1.50 - Meritorious'\n",
        "        elif grade >= 77.5 and grade <= 82.99:\n",
        "            grade = '1.75 - Very Good'\n",
        "        elif grade >= 72 and grade <= 77.49:\n",
        "            grade = '2.00 - Good'\n",
        "        elif grade >= 65.5 and grade <= 71.99:\n",
        "            grade = '2.25 - Very Satisfactory'\n",
        "        elif grade >= 61 and grade <= 65.49:\n",
        "            grade = '2.50 - Satisfactory'\n",
        "        elif grade >= 55.5 and grade <= 60.99:\n",
        "            grade = '2.75 - Fair'\n",
        "        elif grade >= 50 and grade <= 55.49:\n",
        "            grade = '3.00 - Passing'\n",
        "        else:\n",
        "            grade = '5.00 - Failed'\n",
        "# << OUTPUT >>\n",
        "        print(f\"{showngrade:.2f} results to {grade}\")\n",
        "\n",
        "except ValueError:\n",
        "    print(\"Invalid input\")"
      ],
      "metadata": {
        "colab": {
          "base_uri": "https://localhost:8080/"
        },
        "id": "PskUOMC8Qnem",
        "outputId": "724976e4-6b46-4abd-d4ca-968cd5add500"
      },
      "execution_count": null,
      "outputs": [
        {
          "output_type": "stream",
          "name": "stdout",
          "text": [
            "Enter name: Kenshee\n",
            "Enter your prelim grade: 100\n",
            "Enter your midterm grade: 100\n",
            "Enter your final grade: 100\n",
            "100.00 results to 1.00 - Excellent\n"
          ]
        }
      ]
    },
    {
      "cell_type": "code",
      "source": [
        "name = input(\"Enter name: \")  # << NAME OF THIRD STUDENT\n",
        "\n",
        "pgi = input(\"Enter your prelim grade: \")    # << pgi - Prelim Grade Input\n",
        "mgi = input(\"Enter your midterm grade: \")   # << mgi - Midterm Grade Input\n",
        "fgi = input(\"Enter your final grade: \")     # << fgi - Final Grade Input\n",
        "\n",
        "try:\n",
        "\n",
        "    v1 = float(pgi)        # v = Value\n",
        "    v2 = float(mgi)\n",
        "    v3 = float(fgi)\n",
        "\n",
        "    showngrade = float((v1 + v2 + v3)/3)\n",
        "    grade = float((v1 + v2 + v3)/3)\n",
        "\n",
        "# << GRADING SCHEME >>\n",
        "    if grade < 0.0 or grade > 100.0: # << If input value is less than 0 or exceeds 100, an error\n",
        "                                        # is shown at the end of the computation.\n",
        "        print(\"Wrong value.\")\n",
        "    else:\n",
        "        if grade >= 94 and grade <= 100.0:\n",
        "            grade = '1.00 - Excellent'\n",
        "        elif grade >= 88.5 and grade <= 93.99:\n",
        "            grade = '1.25 - Superior'\n",
        "        elif grade >= 83 and grade <= 88.49:\n",
        "            grade = '1.50 - Meritorious'\n",
        "        elif grade >= 77.5 and grade <= 82.99:\n",
        "            grade = '1.75 - Very Good'\n",
        "        elif grade >= 72 and grade <= 77.49:\n",
        "            grade = '2.00 - Good'\n",
        "        elif grade >= 65.5 and grade <= 71.99:\n",
        "            grade = '2.25 - Very Satisfactory'\n",
        "        elif grade >= 61 and grade <= 65.49:\n",
        "            grade = '2.50 - Satisfactory'\n",
        "        elif grade >= 55.5 and grade <= 60.99:\n",
        "            grade = '2.75 - Fair'\n",
        "        elif grade >= 50 and grade <= 55.49:\n",
        "            grade = '3.00 - Passing'\n",
        "        else:\n",
        "            grade = '5.00 - Failed'\n",
        "# << OUTPUT >>\n",
        "        print(f\"{showngrade:.2f} results to {grade}\")\n",
        "\n",
        "except ValueError:\n",
        "    print(\"Invalid input\")"
      ],
      "metadata": {
        "colab": {
          "base_uri": "https://localhost:8080/"
        },
        "id": "V81wfjSfQ3l-",
        "outputId": "763cd0c9-7755-480c-fcdb-267b44664617"
      },
      "execution_count": null,
      "outputs": [
        {
          "output_type": "stream",
          "name": "stdout",
          "text": [
            "Enter name: Rex Carlo\n",
            "Enter your prelim grade: 200\n",
            "Enter your midterm grade: 91\n",
            "Enter your final grade: 64\n",
            "Wrong value.\n"
          ]
        }
      ]
    }
  ]
}